{
 "cells": [
  {
   "cell_type": "code",
   "execution_count": 58,
   "metadata": {},
   "outputs": [],
   "source": [
    "import numpy as np\n",
    "import pandas as pd\n",
    "import scipy\n",
    "from datetime import datetime\n",
    "import datetime as dt\n",
    "import matplotlib.pyplot as plt\n",
    "%matplotlib inline\n",
    "\n",
    "import warnings\n",
    "\n",
    "# Suppressing annoying harmless error\n",
    "warnings.filterwarnings(\n",
    "    action=\"ignore\",\n",
    "    module=\"scipy\",\n",
    "    message=\"^internal gelsd\"\n",
    ")\n",
    "warnings.simplefilter('ignore')"
   ]
  },
  {
   "cell_type": "code",
   "execution_count": 59,
   "metadata": {},
   "outputs": [],
   "source": [
    "# We read the consumer price index (CPI) data from this website: https://fred.stlouisfed.org/series/CPIAUCSL\n",
    "cpi_data = pd.read_excel('CPIAUCSL.xls', skiprows=10)\n",
    "\n",
    "# Remove NA's\n",
    "cpi_data.dropna(inplace=True)"
   ]
  },
  {
   "cell_type": "code",
   "execution_count": 60,
   "metadata": {},
   "outputs": [
    {
     "data": {
      "text/html": [
       "<div>\n",
       "<style scoped>\n",
       "    .dataframe tbody tr th:only-of-type {\n",
       "        vertical-align: middle;\n",
       "    }\n",
       "\n",
       "    .dataframe tbody tr th {\n",
       "        vertical-align: top;\n",
       "    }\n",
       "\n",
       "    .dataframe thead th {\n",
       "        text-align: right;\n",
       "    }\n",
       "</style>\n",
       "<table border=\"1\" class=\"dataframe\">\n",
       "  <thead>\n",
       "    <tr style=\"text-align: right;\">\n",
       "      <th></th>\n",
       "      <th>observation_date</th>\n",
       "      <th>CPIAUCSL</th>\n",
       "    </tr>\n",
       "  </thead>\n",
       "  <tbody>\n",
       "    <tr>\n",
       "      <th>0</th>\n",
       "      <td>1947-01-01</td>\n",
       "      <td>21.48</td>\n",
       "    </tr>\n",
       "    <tr>\n",
       "      <th>1</th>\n",
       "      <td>1947-02-01</td>\n",
       "      <td>21.62</td>\n",
       "    </tr>\n",
       "    <tr>\n",
       "      <th>2</th>\n",
       "      <td>1947-03-01</td>\n",
       "      <td>22.00</td>\n",
       "    </tr>\n",
       "    <tr>\n",
       "      <th>3</th>\n",
       "      <td>1947-04-01</td>\n",
       "      <td>22.00</td>\n",
       "    </tr>\n",
       "    <tr>\n",
       "      <th>4</th>\n",
       "      <td>1947-05-01</td>\n",
       "      <td>21.95</td>\n",
       "    </tr>\n",
       "  </tbody>\n",
       "</table>\n",
       "</div>"
      ],
      "text/plain": [
       "  observation_date  CPIAUCSL\n",
       "0       1947-01-01     21.48\n",
       "1       1947-02-01     21.62\n",
       "2       1947-03-01     22.00\n",
       "3       1947-04-01     22.00\n",
       "4       1947-05-01     21.95"
      ]
     },
     "execution_count": 60,
     "metadata": {},
     "output_type": "execute_result"
    }
   ],
   "source": [
    "cpi_data.head()"
   ]
  },
  {
   "cell_type": "code",
   "execution_count": 61,
   "metadata": {},
   "outputs": [
    {
     "data": {
      "text/html": [
       "<div>\n",
       "<style scoped>\n",
       "    .dataframe tbody tr th:only-of-type {\n",
       "        vertical-align: middle;\n",
       "    }\n",
       "\n",
       "    .dataframe tbody tr th {\n",
       "        vertical-align: top;\n",
       "    }\n",
       "\n",
       "    .dataframe thead th {\n",
       "        text-align: right;\n",
       "    }\n",
       "</style>\n",
       "<table border=\"1\" class=\"dataframe\">\n",
       "  <thead>\n",
       "    <tr style=\"text-align: right;\">\n",
       "      <th></th>\n",
       "      <th>cpi</th>\n",
       "    </tr>\n",
       "    <tr>\n",
       "      <th>observation_date</th>\n",
       "      <th></th>\n",
       "    </tr>\n",
       "  </thead>\n",
       "  <tbody>\n",
       "    <tr>\n",
       "      <th>1947-01-01</th>\n",
       "      <td>21.48</td>\n",
       "    </tr>\n",
       "    <tr>\n",
       "      <th>1947-02-01</th>\n",
       "      <td>21.62</td>\n",
       "    </tr>\n",
       "    <tr>\n",
       "      <th>1947-03-01</th>\n",
       "      <td>22.00</td>\n",
       "    </tr>\n",
       "    <tr>\n",
       "      <th>1947-04-01</th>\n",
       "      <td>22.00</td>\n",
       "    </tr>\n",
       "    <tr>\n",
       "      <th>1947-05-01</th>\n",
       "      <td>21.95</td>\n",
       "    </tr>\n",
       "  </tbody>\n",
       "</table>\n",
       "</div>"
      ],
      "text/plain": [
       "                    cpi\n",
       "observation_date       \n",
       "1947-01-01        21.48\n",
       "1947-02-01        21.62\n",
       "1947-03-01        22.00\n",
       "1947-04-01        22.00\n",
       "1947-05-01        21.95"
      ]
     },
     "execution_count": 61,
     "metadata": {},
     "output_type": "execute_result"
    }
   ],
   "source": [
    "cpi_data.index = pd.to_datetime(cpi_data.observation_date)\n",
    "cpi_data.drop(['observation_date'], axis=1, inplace=True)\n",
    "cpi_data.rename(columns={'CPIAUCSL': 'cpi'}, inplace=True)\n",
    "cpi_data.head()"
   ]
  },
  {
   "cell_type": "code",
   "execution_count": 62,
   "metadata": {},
   "outputs": [
    {
     "data": {
      "image/png": "[encoded data removed]",
      "text/plain": [
       "<Figure size 432x288 with 1 Axes>"
      ]
     },
     "metadata": {
      "needs_background": "light"
     },
     "output_type": "display_data"
    }
   ],
   "source": [
    "cpi_data.plot()\n",
    "plt.title('US Consumer Price Index Time Series')\n",
    "plt.ylabel('Consumer Price Index')\n",
    "plt.show()"
   ]
  },
  {
   "cell_type": "code",
   "execution_count": 63,
   "metadata": {},
   "outputs": [
    {
     "data": {
      "image/png": "[encoded data removed]",
      "text/plain": [
       "<Figure size 432x288 with 1 Axes>"
      ]
     },
     "metadata": {
      "needs_background": "light"
     },
     "output_type": "display_data"
    }
   ],
   "source": [
    "cpi_data['diff_1'] = cpi_data.cpi - cpi_data.cpi.shift()\n",
    "cpi_data.plot(y='diff_1')\n",
    "plt.title('CPI Time Series')\n",
    "plt.ylabel(\"Consumer Price Index\")\n",
    "plt.show()"
   ]
  },
  {
   "cell_type": "code",
   "execution_count": 64,
   "metadata": {},
   "outputs": [
    {
     "data": {
      "text/plain": [
       "Text(0.5, 1.0, 'US CPI PACF')"
      ]
     },
     "execution_count": 64,
     "metadata": {},
     "output_type": "execute_result"
    },
    {
     "data": {
      "image/png": "[encoded data removed]",
      "text/plain": [
       "<Figure size 432x288 with 1 Axes>"
      ]
     },
     "metadata": {
      "needs_background": "light"
     },
     "output_type": "display_data"
    }
   ],
   "source": [
    "from statsmodels.tsa.stattools import pacf\n",
    "x_acf = pd.DataFrame(pacf(cpi_data.cpi))\n",
    "x_acf.plot(kind='bar')\n",
    "plt.ylabel('CPI Diff')\n",
    "plt.title(\"US CPI PACF\")"
   ]
  },
  {
   "cell_type": "code",
   "execution_count": 65,
   "metadata": {},
   "outputs": [
    {
     "data": {
      "text/plain": [
       "<matplotlib.legend.Legend at 0x153fa39d7b8>"
      ]
     },
     "execution_count": 65,
     "metadata": {},
     "output_type": "execute_result"
    },
    {
     "data": {
      "image/png": "[encoded data removed]",
      "text/plain": [
       "<Figure size 432x288 with 1 Axes>"
      ]
     },
     "metadata": {
      "needs_background": "light"
     },
     "output_type": "display_data"
    }
   ],
   "source": [
    "x_acf = pd.DataFrame(pacf(cpi_data.diff_1[1:]))\n",
    "x_acf.plot(kind='bar')\n",
    "plt.title(\"US CPI Diff PACF\")\n",
    "plt.legend(['Difference'])"
   ]
  },
  {
   "cell_type": "code",
   "execution_count": 66,
   "metadata": {},
   "outputs": [
    {
     "data": {
      "text/html": [
       "<div>\n",
       "<style scoped>\n",
       "    .dataframe tbody tr th:only-of-type {\n",
       "        vertical-align: middle;\n",
       "    }\n",
       "\n",
       "    .dataframe tbody tr th {\n",
       "        vertical-align: top;\n",
       "    }\n",
       "\n",
       "    .dataframe thead th {\n",
       "        text-align: right;\n",
       "    }\n",
       "</style>\n",
       "<table border=\"1\" class=\"dataframe\">\n",
       "  <thead>\n",
       "    <tr style=\"text-align: right;\">\n",
       "      <th></th>\n",
       "      <th>cpi</th>\n",
       "      <th>diff_1</th>\n",
       "    </tr>\n",
       "    <tr>\n",
       "      <th>observation_date</th>\n",
       "      <th></th>\n",
       "      <th></th>\n",
       "    </tr>\n",
       "  </thead>\n",
       "  <tbody>\n",
       "    <tr>\n",
       "      <th>1947-01-01</th>\n",
       "      <td>21.48</td>\n",
       "      <td>NaN</td>\n",
       "    </tr>\n",
       "    <tr>\n",
       "      <th>1947-02-01</th>\n",
       "      <td>21.62</td>\n",
       "      <td>0.14</td>\n",
       "    </tr>\n",
       "    <tr>\n",
       "      <th>1947-03-01</th>\n",
       "      <td>22.00</td>\n",
       "      <td>0.38</td>\n",
       "    </tr>\n",
       "    <tr>\n",
       "      <th>1947-04-01</th>\n",
       "      <td>22.00</td>\n",
       "      <td>0.00</td>\n",
       "    </tr>\n",
       "    <tr>\n",
       "      <th>1947-05-01</th>\n",
       "      <td>21.95</td>\n",
       "      <td>-0.05</td>\n",
       "    </tr>\n",
       "  </tbody>\n",
       "</table>\n",
       "</div>"
      ],
      "text/plain": [
       "                    cpi  diff_1\n",
       "observation_date               \n",
       "1947-01-01        21.48     NaN\n",
       "1947-02-01        21.62    0.14\n",
       "1947-03-01        22.00    0.38\n",
       "1947-04-01        22.00    0.00\n",
       "1947-05-01        21.95   -0.05"
      ]
     },
     "execution_count": 66,
     "metadata": {},
     "output_type": "execute_result"
    }
   ],
   "source": [
    "cpi_data.head()"
   ]
  },
  {
   "cell_type": "code",
   "execution_count": 67,
   "metadata": {},
   "outputs": [
    {
     "name": "stdout",
     "output_type": "stream",
     "text": [
      "                             ARIMA Model Results                              \n",
      "==============================================================================\n",
      "Dep. Variable:                  D.cpi   No. Observations:                  869\n",
      "Model:                 ARIMA(0, 1, 0)   Log Likelihood                -407.297\n",
      "Method:                           css   S.D. of innovations              0.387\n",
      "Date:                Tue, 13 Aug 2019   AIC                            818.593\n",
      "Time:                        17:03:51   BIC                            828.128\n",
      "Sample:                    02-01-1947   HQIC                           822.242\n",
      "                         - 06-01-2019                                         \n",
      "==============================================================================\n",
      "                 coef    std err          z      P>|z|      [0.025      0.975]\n",
      "------------------------------------------------------------------------------\n",
      "const          0.2691      0.013     20.515      0.000       0.243       0.295\n",
      "==============================================================================\n",
      "Residuals Description\n",
      "count    8.690000e+02\n",
      "mean     1.884092e-09\n",
      "std      3.868698e-01\n",
      "min     -4.111074e+00\n",
      "25%     -2.090736e-01\n",
      "50%     -6.907365e-02\n",
      "75%      1.619264e-01\n",
      "max      2.430926e+00\n",
      "dtype: float64\n"
     ]
    }
   ],
   "source": [
    "# Run various ARIMA models to see which p, d and q values fit the best\n",
    "# Pick the one with lowest AIC\n",
    "\n",
    "from statsmodels.tsa.arima_model import ARIMA\n",
    "model = ARIMA(cpi_data.cpi, order=(0,1,0))\n",
    "model_fit = model.fit()\n",
    "print(model_fit.summary())\n",
    "print('Residuals Description')\n",
    "print(model_fit.resid.describe())"
   ]
  },
  {
   "cell_type": "code",
   "execution_count": 68,
   "metadata": {},
   "outputs": [
    {
     "name": "stdout",
     "output_type": "stream",
     "text": [
      "                              ARMA Model Results                              \n",
      "==============================================================================\n",
      "Dep. Variable:                    cpi   No. Observations:                  870\n",
      "Model:                     ARMA(1, 0)   Log Likelihood                -588.363\n",
      "Method:                       css-mle   S.D. of innovations              0.471\n",
      "Date:                Tue, 13 Aug 2019   AIC                           1182.727\n",
      "Time:                        17:03:52   BIC                           1197.032\n",
      "Sample:                    01-01-1947   HQIC                          1188.200\n",
      "                         - 06-01-2019                                         \n",
      "==============================================================================\n",
      "                 coef    std err          z      P>|z|      [0.025      0.975]\n",
      "------------------------------------------------------------------------------\n",
      "const        109.9381        nan        nan        nan         nan         nan\n",
      "ar.L1.cpi      1.0000        nan        nan        nan         nan         nan\n",
      "                                    Roots                                    \n",
      "=============================================================================\n",
      "                  Real          Imaginary           Modulus         Frequency\n",
      "-----------------------------------------------------------------------------\n",
      "AR.1            1.0000           +0.0000j            1.0000            0.0000\n",
      "-----------------------------------------------------------------------------\n",
      "Residuals Description\n",
      "count    870.000000\n",
      "mean       0.167088\n",
      "std        3.032880\n",
      "min      -88.458114\n",
      "25%        0.055500\n",
      "50%        0.200000\n",
      "75%        0.428001\n",
      "max        2.700000\n",
      "dtype: float64\n"
     ]
    }
   ],
   "source": [
    "\n",
    "from statsmodels.tsa.arima_model import ARIMA\n",
    "model = ARIMA(cpi_data.cpi, order=(1,0,0))\n",
    "model_fit = model.fit()\n",
    "print(model_fit.summary())\n",
    "print('Residuals Description')\n",
    "print(model_fit.resid.describe())"
   ]
  },
  {
   "cell_type": "code",
   "execution_count": 69,
   "metadata": {},
   "outputs": [
    {
     "name": "stdout",
     "output_type": "stream",
     "text": [
      "                             ARIMA Model Results                              \n",
      "==============================================================================\n",
      "Dep. Variable:                  D.cpi   No. Observations:                  869\n",
      "Model:                 ARIMA(1, 1, 1)   Log Likelihood                -259.485\n",
      "Method:                       css-mle   S.D. of innovations              0.326\n",
      "Date:                Tue, 13 Aug 2019   AIC                            526.969\n",
      "Time:                        17:03:53   BIC                            546.039\n",
      "Sample:                    02-01-1947   HQIC                           534.266\n",
      "                         - 06-01-2019                                         \n",
      "===============================================================================\n",
      "                  coef    std err          z      P>|z|      [0.025      0.975]\n",
      "-------------------------------------------------------------------------------\n",
      "const           0.2688      0.021     12.547      0.000       0.227       0.311\n",
      "ar.L1.D.cpi     0.3700      0.058      6.385      0.000       0.256       0.484\n",
      "ma.L1.D.cpi     0.2211      0.061      3.624      0.000       0.102       0.341\n",
      "                                    Roots                                    \n",
      "=============================================================================\n",
      "                  Real          Imaginary           Modulus         Frequency\n",
      "-----------------------------------------------------------------------------\n",
      "AR.1            2.7027           +0.0000j            2.7027            0.0000\n",
      "MA.1           -4.5224           +0.0000j            4.5224            0.5000\n",
      "-----------------------------------------------------------------------------\n",
      "Residuals Description\n",
      "count    869.000000\n",
      "mean       0.000084\n",
      "std        0.326300\n",
      "min       -2.827208\n",
      "25%       -0.140646\n",
      "50%       -0.045681\n",
      "75%        0.130705\n",
      "max        2.004606\n",
      "dtype: float64\n"
     ]
    }
   ],
   "source": [
    "\n",
    "from statsmodels.tsa.arima_model import ARIMA\n",
    "model_111 = ARIMA(cpi_data.cpi, order=(1,1,1))\n",
    "model_111_fit = model_111.fit()\n",
    "print(model_111_fit.summary())\n",
    "print('Residuals Description')\n",
    "print(model_111_fit.resid.describe())"
   ]
  },
  {
   "cell_type": "code",
   "execution_count": 70,
   "metadata": {},
   "outputs": [
    {
     "name": "stdout",
     "output_type": "stream",
     "text": [
      "                             ARIMA Model Results                              \n",
      "==============================================================================\n",
      "Dep. Variable:                  D.cpi   No. Observations:                  869\n",
      "Model:                 ARIMA(5, 1, 5)   Log Likelihood                -227.424\n",
      "Method:                       css-mle   S.D. of innovations              0.314\n",
      "Date:                Tue, 13 Aug 2019   AIC                            478.849\n",
      "Time:                        17:04:05   BIC                            536.057\n",
      "Sample:                    02-01-1947   HQIC                           500.739\n",
      "                         - 06-01-2019                                         \n",
      "===============================================================================\n",
      "                  coef    std err          z      P>|z|      [0.025      0.975]\n",
      "-------------------------------------------------------------------------------\n",
      "const           0.2608      0.085      3.050      0.002       0.093       0.428\n",
      "ar.L1.D.cpi     1.0251      0.227      4.526      0.000       0.581       1.469\n",
      "ar.L2.D.cpi    -0.7556      0.390     -1.938      0.053      -1.520       0.008\n",
      "ar.L3.D.cpi     0.2300      0.415      0.554      0.580      -0.584       1.043\n",
      "ar.L4.D.cpi     0.4363      0.296      1.476      0.140      -0.143       1.016\n",
      "ar.L5.D.cpi     0.0496      0.092      0.539      0.590      -0.131       0.230\n",
      "ma.L1.D.cpi    -0.4895      0.224     -2.189      0.029      -0.928      -0.051\n",
      "ma.L2.D.cpi     0.3380      0.271      1.246      0.213      -0.194       0.870\n",
      "ma.L3.D.cpi     0.0258      0.242      0.107      0.915      -0.448       0.500\n",
      "ma.L4.D.cpi    -0.4110      0.137     -3.006      0.003      -0.679      -0.143\n",
      "ma.L5.D.cpi    -0.3302      0.086     -3.833      0.000      -0.499      -0.161\n",
      "                                    Roots                                    \n",
      "=============================================================================\n",
      "                  Real          Imaginary           Modulus         Frequency\n",
      "-----------------------------------------------------------------------------\n",
      "AR.1            1.0066           -0.0000j            1.0066           -0.0000\n",
      "AR.2            0.2898           -0.9713j            1.0136           -0.2038\n",
      "AR.3            0.2898           +0.9713j            1.0136            0.2038\n",
      "AR.4           -2.4611           -0.0000j            2.4611           -0.5000\n",
      "AR.5           -7.9223           -0.0000j            7.9223           -0.5000\n",
      "MA.1            1.0409           -0.0000j            1.0409           -0.0000\n",
      "MA.2            0.2741           -0.9773j            1.0150           -0.2065\n",
      "MA.3            0.2741           +0.9773j            1.0150            0.2065\n",
      "MA.4           -1.4169           -0.9036j            1.6805           -0.4096\n",
      "MA.5           -1.4169           +0.9036j            1.6805            0.4096\n",
      "-----------------------------------------------------------------------------\n",
      "Residuals Description\n",
      "count    869.000000\n",
      "mean       0.003980\n",
      "std        0.314293\n",
      "min       -3.181764\n",
      "25%       -0.094396\n",
      "50%       -0.006867\n",
      "75%        0.110632\n",
      "max        1.985331\n",
      "dtype: float64\n"
     ]
    }
   ],
   "source": [
    "\n",
    "from statsmodels.tsa.arima_model import ARIMA\n",
    "model = ARIMA(cpi_data.cpi, order=(5,1,5))\n",
    "model_fit = model.fit()\n",
    "print(model_fit.summary())\n",
    "print('Residuals Description')\n",
    "print(model_fit.resid.describe())"
   ]
  },
  {
   "cell_type": "code",
   "execution_count": 71,
   "metadata": {},
   "outputs": [
    {
     "data": {
      "text/plain": [
       "Text(0.5, 1.0, 'Histogram of CPI Residuals')"
      ]
     },
     "execution_count": 71,
     "metadata": {},
     "output_type": "execute_result"
    },
    {
     "data": {
      "image/png": "[encoded data removed]",
      "text/plain": [
       "<Figure size 432x288 with 1 Axes>"
      ]
     },
     "metadata": {
      "needs_background": "light"
     },
     "output_type": "display_data"
    },
    {
     "data": {
      "image/png": "[encoded data removed]",
      "text/plain": [
       "<Figure size 432x288 with 1 Axes>"
      ]
     },
     "metadata": {
      "needs_background": "light"
     },
     "output_type": "display_data"
    }
   ],
   "source": [
    "# Plot the residuals i.e the actual - predicted\n",
    "\n",
    "residuals = pd.DataFrame(model_111_fit.resid)\n",
    "\n",
    "residuals.plot(legend=False)\n",
    "plt.title('Time Series of CPI Residuals')\n",
    "\n",
    "residuals.hist(bins=20)\n",
    "plt.title('Histogram of CPI Residuals')"
   ]
  },
  {
   "cell_type": "code",
   "execution_count": 72,
   "metadata": {},
   "outputs": [
    {
     "data": {
      "text/html": [
       "<div>\n",
       "<style scoped>\n",
       "    .dataframe tbody tr th:only-of-type {\n",
       "        vertical-align: middle;\n",
       "    }\n",
       "\n",
       "    .dataframe tbody tr th {\n",
       "        vertical-align: top;\n",
       "    }\n",
       "\n",
       "    .dataframe thead th {\n",
       "        text-align: right;\n",
       "    }\n",
       "</style>\n",
       "<table border=\"1\" class=\"dataframe\">\n",
       "  <thead>\n",
       "    <tr style=\"text-align: right;\">\n",
       "      <th></th>\n",
       "      <th>cpi</th>\n",
       "      <th>diff_1</th>\n",
       "    </tr>\n",
       "    <tr>\n",
       "      <th>observation_date</th>\n",
       "      <th></th>\n",
       "      <th></th>\n",
       "    </tr>\n",
       "  </thead>\n",
       "  <tbody>\n",
       "    <tr>\n",
       "      <th>1947-01-01</th>\n",
       "      <td>21.48</td>\n",
       "      <td>NaN</td>\n",
       "    </tr>\n",
       "  </tbody>\n",
       "</table>\n",
       "</div>"
      ],
      "text/plain": [
       "                    cpi  diff_1\n",
       "observation_date               \n",
       "1947-01-01        21.48     NaN"
      ]
     },
     "execution_count": 72,
     "metadata": {},
     "output_type": "execute_result"
    }
   ],
   "source": [
    "cpi_data[cpi_data.isnull().any(axis=1)]"
   ]
  },
  {
   "cell_type": "code",
   "execution_count": 73,
   "metadata": {},
   "outputs": [],
   "source": [
    "train_cpi = cpi_data.cpi[:650]\n",
    "test_cpi = cpi_data.cpi[650:]"
   ]
  },
  {
   "cell_type": "code",
   "execution_count": 74,
   "metadata": {},
   "outputs": [
    {
     "data": {
      "text/plain": [
       "observation_date\n",
       "1947-01-01     21.480\n",
       "1947-02-01     21.620\n",
       "1947-03-01     22.000\n",
       "1947-04-01     22.000\n",
       "1947-05-01     21.950\n",
       "1947-06-01     22.080\n",
       "1947-07-01     22.230\n",
       "1947-08-01     22.400\n",
       "1947-09-01     22.840\n",
       "1947-10-01     22.910\n",
       "1947-11-01     23.060\n",
       "1947-12-01     23.410\n",
       "1948-01-01     23.680\n",
       "1948-02-01     23.670\n",
       "1948-03-01     23.500\n",
       "1948-04-01     23.820\n",
       "1948-05-01     24.010\n",
       "1948-06-01     24.150\n",
       "1948-07-01     24.400\n",
       "1948-08-01     24.430\n",
       "1948-09-01     24.360\n",
       "1948-10-01     24.310\n",
       "1948-11-01     24.160\n",
       "1948-12-01     24.050\n",
       "1949-01-01     24.010\n",
       "1949-02-01     23.910\n",
       "1949-03-01     23.910\n",
       "1949-04-01     23.920\n",
       "1949-05-01     23.910\n",
       "1949-06-01     23.920\n",
       "               ...   \n",
       "2017-01-01    243.780\n",
       "2017-02-01    243.961\n",
       "2017-03-01    243.749\n",
       "2017-04-01    244.051\n",
       "2017-05-01    243.962\n",
       "2017-06-01    244.182\n",
       "2017-07-01    244.390\n",
       "2017-08-01    245.297\n",
       "2017-09-01    246.418\n",
       "2017-10-01    246.587\n",
       "2017-11-01    247.332\n",
       "2017-12-01    247.901\n",
       "2018-01-01    248.884\n",
       "2018-02-01    249.369\n",
       "2018-03-01    249.498\n",
       "2018-04-01    249.956\n",
       "2018-05-01    250.646\n",
       "2018-06-01    251.134\n",
       "2018-07-01    251.597\n",
       "2018-08-01    251.879\n",
       "2018-09-01    252.010\n",
       "2018-10-01    252.794\n",
       "2018-11-01    252.760\n",
       "2018-12-01    252.723\n",
       "2019-01-01    252.673\n",
       "2019-02-01    253.113\n",
       "2019-03-01    254.148\n",
       "2019-04-01    254.958\n",
       "2019-05-01    255.155\n",
       "2019-06-01    255.305\n",
       "Name: cpi, Length: 870, dtype: float64"
      ]
     },
     "execution_count": 74,
     "metadata": {},
     "output_type": "execute_result"
    }
   ],
   "source": [
    "cpi_data.cpi"
   ]
  },
  {
   "cell_type": "code",
   "execution_count": 75,
   "metadata": {},
   "outputs": [],
   "source": [
    "model = ARIMA(train_cpi, order=(1, 1, 1))  \n",
    "fitted = model.fit(disp=-1)  \n",
    "\n",
    "pred = model_fit.predict(start=len(train_cpi), end=len(train_cpi) + 220)"
   ]
  },
  {
   "cell_type": "code",
   "execution_count": 76,
   "metadata": {},
   "outputs": [
    {
     "data": {
      "text/plain": [
       "2001-03-01    0.264794\n",
       "2001-04-01    0.212954\n",
       "2001-05-01    0.452012\n",
       "2001-06-01    0.660040\n",
       "2001-07-01    0.284643\n",
       "2001-08-01   -0.034637\n",
       "2001-09-01    0.295863\n",
       "2001-10-01    0.629275\n",
       "2001-11-01   -0.132255\n",
       "2001-12-01    0.216978\n",
       "2002-01-01    0.126652\n",
       "2002-02-01    0.320018\n",
       "2002-03-01    0.413113\n",
       "2002-04-01    0.384902\n",
       "2002-05-01    0.500102\n",
       "2002-06-01    0.105547\n",
       "2002-07-01    0.255098\n",
       "2002-08-01    0.478258\n",
       "2002-09-01    0.388518\n",
       "2002-10-01    0.234886\n",
       "2002-11-01    0.313734\n",
       "2002-12-01    0.319541\n",
       "2003-01-01    0.370724\n",
       "2003-02-01    0.599874\n",
       "2003-03-01    0.544005\n",
       "2003-04-01    0.163827\n",
       "2003-05-01   -0.165842\n",
       "2003-06-01    0.231330\n",
       "2003-07-01    0.370862\n",
       "2003-08-01    0.417654\n",
       "                ...   \n",
       "2017-02-01    0.674115\n",
       "2017-03-01    0.223308\n",
       "2017-04-01    0.076068\n",
       "2017-05-01    0.275542\n",
       "2017-06-01    0.005791\n",
       "2017-07-01    0.402041\n",
       "2017-08-01    0.360447\n",
       "2017-09-01    0.550788\n",
       "2017-10-01    0.539983\n",
       "2017-11-01    0.037741\n",
       "2017-12-01    0.686197\n",
       "2018-01-01    0.469093\n",
       "2018-02-01    0.573473\n",
       "2018-03-01    0.268307\n",
       "2018-04-01    0.147016\n",
       "2018-05-01    0.570338\n",
       "2018-06-01    0.564685\n",
       "2018-07-01    0.340845\n",
       "2018-08-01    0.310163\n",
       "2018-09-01    0.280249\n",
       "2018-10-01    0.337322\n",
       "2018-11-01    0.704851\n",
       "2018-12-01    0.032727\n",
       "2019-01-01    0.109587\n",
       "2019-02-01    0.222418\n",
       "2019-03-01    0.502105\n",
       "2019-04-01    0.784218\n",
       "2019-05-01    0.391381\n",
       "2019-06-01    0.102128\n",
       "2019-07-01    0.289035\n",
       "Freq: MS, Length: 221, dtype: float64"
      ]
     },
     "execution_count": 76,
     "metadata": {},
     "output_type": "execute_result"
    }
   ],
   "source": [
    "pred"
   ]
  },
  {
   "cell_type": "code",
   "execution_count": 77,
   "metadata": {},
   "outputs": [
    {
     "data": {
      "image/png": "[encoded data removed]",
      "text/plain": [
       "<Figure size 432x288 with 1 Axes>"
      ]
     },
     "metadata": {
      "needs_background": "light"
     },
     "output_type": "display_data"
    }
   ],
   "source": [
    "fig, ax = plt.subplots()\n",
    "ax = train_cpi.plot()\n",
    "fig = model_fit.plot_predict(start = '2001-03-01', end= '2019-07-01', dynamic=True, ax=ax,plot_insample=False)\n",
    "plt.show()"
   ]
  },
  {
   "cell_type": "code",
   "execution_count": 78,
   "metadata": {},
   "outputs": [
    {
     "data": {
      "image/png": "[encoded data removed]",
      "text/plain": [
       "<Figure size 1200x500 with 1 Axes>"
      ]
     },
     "metadata": {
      "needs_background": "light"
     },
     "output_type": "display_data"
    }
   ],
   "source": [
    "\n",
    "# Plot\n",
    "plt.figure(figsize=(12,5), dpi=100)\n",
    "plt.plot(train_cpi, label='training')\n",
    "plt.plot(test_cpi, label='actual')\n",
    "plt.title('Actuals')\n",
    "plt.legend(loc='upper left', fontsize=8)\n",
    "plt.show()"
   ]
  },
  {
   "cell_type": "code",
   "execution_count": null,
   "metadata": {},
   "outputs": [],
   "source": []
  }
 ],
 "metadata": {
  "kernelspec": {
   "display_name": "Python 3",
   "language": "python",
   "name": "python3"
  },
  "language_info": {
   "codemirror_mode": {
    "name": "ipython",
    "version": 3
   },
   "file_extension": ".py",
   "mimetype": "text/x-python",
   "name": "python",
   "nbconvert_exporter": "python",
   "pygments_lexer": "ipython3",
   "version": "3.7.3"
  }
 },
 "nbformat": 4,
 "nbformat_minor": 2
}
